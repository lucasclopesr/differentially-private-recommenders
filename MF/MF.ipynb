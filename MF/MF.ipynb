{
 "metadata": {
  "language_info": {
   "codemirror_mode": {
    "name": "ipython",
    "version": 3
   },
   "file_extension": ".py",
   "mimetype": "text/x-python",
   "name": "python",
   "nbconvert_exporter": "python",
   "pygments_lexer": "ipython3",
   "version": "3.8.5-final"
  },
  "orig_nbformat": 2,
  "kernelspec": {
   "name": "python38564bit5c273b7d2bae4c3d8cb8f8e946365195",
   "display_name": "Python 3.8.5 64-bit",
   "language": "python"
  }
 },
 "nbformat": 4,
 "nbformat_minor": 2,
 "cells": [
  {
   "cell_type": "code",
   "execution_count": null,
   "metadata": {},
   "outputs": [],
   "source": [
    "import pandas as pd\n",
    "import numpy as np\n",
    "from sklearn.metrics import mean_squared_error\n",
    "from matrix_factorization import BaselineModel, KernelMF"
   ]
  },
  {
   "cell_type": "code",
   "execution_count": 54,
   "metadata": {},
   "outputs": [
    {
     "output_type": "execute_result",
     "data": {
      "text/plain": [
       "               user_id     item_id  rating   timestamp\n",
       "0       A2IDCSC6NVONIZ  0972683275     5.0  1367280000\n",
       "1       A3BMUBUC1N77U8  0972683275     4.0  1385164800\n",
       "2        AQBLWW13U66XD  0972683275     5.0  1375574400\n",
       "3       A3IIGCFLKVFW8M  0972683275     5.0  1393459200\n",
       "4        A6J8D9V5S9MBE  0972683275     5.0  1306886400\n",
       "...                ...         ...     ...         ...\n",
       "269038  A3OOQH73VQ97VN  B00L3YHF6O     5.0  1404777600\n",
       "269039  A2XCCN239AR1XK  B00L3YHF6O     5.0  1404604800\n",
       "269040  A35Q0RBM3YNQNF  B00L3YHF6O     5.0  1405555200\n",
       "269041  A26VF18X91983P  B00L3YHF6O     5.0  1405987200\n",
       "269042   AOVTLYTHVDNUX  B00L3YHF6O     5.0  1405296000\n",
       "\n",
       "[269043 rows x 4 columns]"
      ],
      "text/html": "<div>\n<style scoped>\n    .dataframe tbody tr th:only-of-type {\n        vertical-align: middle;\n    }\n\n    .dataframe tbody tr th {\n        vertical-align: top;\n    }\n\n    .dataframe thead th {\n        text-align: right;\n    }\n</style>\n<table border=\"1\" class=\"dataframe\">\n  <thead>\n    <tr style=\"text-align: right;\">\n      <th></th>\n      <th>user_id</th>\n      <th>item_id</th>\n      <th>rating</th>\n      <th>timestamp</th>\n    </tr>\n  </thead>\n  <tbody>\n    <tr>\n      <th>0</th>\n      <td>A2IDCSC6NVONIZ</td>\n      <td>0972683275</td>\n      <td>5.0</td>\n      <td>1367280000</td>\n    </tr>\n    <tr>\n      <th>1</th>\n      <td>A3BMUBUC1N77U8</td>\n      <td>0972683275</td>\n      <td>4.0</td>\n      <td>1385164800</td>\n    </tr>\n    <tr>\n      <th>2</th>\n      <td>AQBLWW13U66XD</td>\n      <td>0972683275</td>\n      <td>5.0</td>\n      <td>1375574400</td>\n    </tr>\n    <tr>\n      <th>3</th>\n      <td>A3IIGCFLKVFW8M</td>\n      <td>0972683275</td>\n      <td>5.0</td>\n      <td>1393459200</td>\n    </tr>\n    <tr>\n      <th>4</th>\n      <td>A6J8D9V5S9MBE</td>\n      <td>0972683275</td>\n      <td>5.0</td>\n      <td>1306886400</td>\n    </tr>\n    <tr>\n      <th>...</th>\n      <td>...</td>\n      <td>...</td>\n      <td>...</td>\n      <td>...</td>\n    </tr>\n    <tr>\n      <th>269038</th>\n      <td>A3OOQH73VQ97VN</td>\n      <td>B00L3YHF6O</td>\n      <td>5.0</td>\n      <td>1404777600</td>\n    </tr>\n    <tr>\n      <th>269039</th>\n      <td>A2XCCN239AR1XK</td>\n      <td>B00L3YHF6O</td>\n      <td>5.0</td>\n      <td>1404604800</td>\n    </tr>\n    <tr>\n      <th>269040</th>\n      <td>A35Q0RBM3YNQNF</td>\n      <td>B00L3YHF6O</td>\n      <td>5.0</td>\n      <td>1405555200</td>\n    </tr>\n    <tr>\n      <th>269041</th>\n      <td>A26VF18X91983P</td>\n      <td>B00L3YHF6O</td>\n      <td>5.0</td>\n      <td>1405987200</td>\n    </tr>\n    <tr>\n      <th>269042</th>\n      <td>AOVTLYTHVDNUX</td>\n      <td>B00L3YHF6O</td>\n      <td>5.0</td>\n      <td>1405296000</td>\n    </tr>\n  </tbody>\n</table>\n<p>269043 rows × 4 columns</p>\n</div>"
     },
     "metadata": {},
     "execution_count": 54
    }
   ],
   "source": [
    "df = pd.read_csv(\"data/private_slice_ratings_3.csv\", index_col=0)\n",
    "cols = ['user_id','item_id', 'old_rating','timestamp','Counts Users', 'Counts Items','old_rating']\n",
    "df.columns = cols\n",
    "df.drop(['Counts Users','Counts Items','old_rating'], axis=1,inplace=True )\n",
    "df"
   ]
  },
  {
   "cell_type": "code",
   "execution_count": 51,
   "metadata": {},
   "outputs": [],
   "source": [
    "X = df[['user_id','item_id']]\n",
    "y = df['rating']"
   ]
  },
  {
   "cell_type": "code",
   "execution_count": null,
   "metadata": {},
   "outputs": [],
   "source": [
    "from tqdm import tqdm\n",
    "from sklearn import model_selection\n",
    "from sklearn.model_selection import KFold\n",
    "from sklearn.model_selection import cross_val_score\n",
    "\n",
    "param_dist = {'n_epochs': [5,10,20,50,100],\n",
    "              'n_factors': [20,50,100,200,500],\n",
    "              'lr': list(np.arange(0.001, 0.02, step=0.001)),\n",
    "              'reg': list(np.arange(0.005, 0.02, step=0.001)),\n",
    "             }\n",
    "\n"
   ]
  },
  {
   "cell_type": "code",
   "execution_count": null,
   "metadata": {
    "tags": []
   },
   "outputs": [],
   "source": [
    "best_rmse = 10000\n",
    "hparam = {}\n",
    "kfold = KFold(n_splits=5)\n",
    "for h in tqdm(model_selection.ParameterSampler(param_dist, n_iter=50, random_state=123456)):\n",
    "    matrix_fact = KernelMF(n_epochs=h['n_epochs'], n_factors=h['n_factors'], verbose=0, lr=h['lr'], reg=h['reg'])\n",
    "    rmse = 0\n",
    "    for train_idx, test_idx in kfold.split(X):\n",
    "        X_train, X_test = X.loc[train_idx], X.loc[test_idx]\n",
    "        y_train, y_test = y.loc[train_idx], y.loc[test_idx]\n",
    "\n",
    "        matrix_fact.fit(X_train, y_train)\n",
    "\n",
    "        pred = matrix_fact.predict(X_test)\n",
    "        rmse += mean_squared_error(y_test, pred, squared=False)\n",
    "    rmse = rmse/5\n",
    "    print(f\"\\nTest RMSE: {rmse:.4f}\")\n",
    "    if rmse < best_rmse:\n",
    "        hparam = h\n",
    "        best_rmse = rmse\n",
    "\n",
    "\n",
    "    "
   ]
  },
  {
   "cell_type": "code",
   "execution_count": null,
   "metadata": {},
   "outputs": [],
   "source": [
    "hparam = {'reg': 0.009000000000000001, 'n_factors': 20, 'n_epochs': 5, 'lr': 0.017}"
   ]
  },
  {
   "cell_type": "code",
   "execution_count": null,
   "metadata": {},
   "outputs": [],
   "source": [
    "best_rmse"
   ]
  },
  {
   "cell_type": "code",
   "execution_count": null,
   "metadata": {},
   "outputs": [],
   "source": [
    "kfold = KFold(n_splits=10)\n",
    "for train_idx, test_idx in kfold.split(X):\n",
    "    print(train_idx)\n",
    "    print(test_idx)"
   ]
  },
  {
   "cell_type": "code",
   "execution_count": 52,
   "metadata": {},
   "outputs": [
    {
     "output_type": "stream",
     "name": "stdout",
     "text": [
      "Epoch  1 / 5  -  train_rmse: 1.0002873649294757\n",
      "Epoch  2 / 5  -  train_rmse: 0.9548951546146806\n",
      "Epoch  3 / 5  -  train_rmse: 0.926392005441788\n",
      "Epoch  4 / 5  -  train_rmse: 0.9051921347809841\n",
      "Epoch  5 / 5  -  train_rmse: 0.8871427289567273\n",
      "\n",
      "Test RMSE: 1.0422\n",
      "Epoch  1 / 5  -  train_rmse: 0.9973526532461451\n",
      "Epoch  2 / 5  -  train_rmse: 0.9520824424208557\n",
      "Epoch  3 / 5  -  train_rmse: 0.9238485118607594\n",
      "Epoch  4 / 5  -  train_rmse: 0.9028217316004638\n",
      "Epoch  5 / 5  -  train_rmse: 0.8849216295691485\n",
      "\n",
      "Test RMSE: 1.0707\n",
      "Epoch  1 / 5  -  train_rmse: 0.9971656248653166\n",
      "Epoch  2 / 5  -  train_rmse: 0.952152402745721\n",
      "Epoch  3 / 5  -  train_rmse: 0.9236735608828675\n",
      "Epoch  4 / 5  -  train_rmse: 0.9026918464609126\n",
      "Epoch  5 / 5  -  train_rmse: 0.8848131339154214\n",
      "\n",
      "Test RMSE: 1.0713\n",
      "Epoch  1 / 5  -  train_rmse: 0.9987636317459362\n",
      "Epoch  2 / 5  -  train_rmse: 0.9533633008032814\n",
      "Epoch  3 / 5  -  train_rmse: 0.9248218571067661\n",
      "Epoch  4 / 5  -  train_rmse: 0.9037631863961664\n",
      "Epoch  5 / 5  -  train_rmse: 0.8859045149345026\n",
      "\n",
      "Test RMSE: 1.0553\n",
      "Epoch  1 / 5  -  train_rmse: 0.9983463749937956\n",
      "Epoch  2 / 5  -  train_rmse: 0.9527810065509372\n",
      "Epoch  3 / 5  -  train_rmse: 0.9241257510968598\n",
      "Epoch  4 / 5  -  train_rmse: 0.9029452288685746\n",
      "Epoch  5 / 5  -  train_rmse: 0.8849556846946187\n",
      "\n",
      "Test RMSE: 1.0602\n",
      "Epoch  1 / 5  -  train_rmse: 0.999004552788194\n",
      "Epoch  2 / 5  -  train_rmse: 0.953635458370539\n",
      "Epoch  3 / 5  -  train_rmse: 0.9250488134625101\n",
      "Epoch  4 / 5  -  train_rmse: 0.9038875818264165\n",
      "Epoch  5 / 5  -  train_rmse: 0.8859578007736055\n",
      "\n",
      "Test RMSE: 1.0580\n",
      "Epoch  1 / 5  -  train_rmse: 0.9986286749276541\n",
      "Epoch  2 / 5  -  train_rmse: 0.9531913800533001\n",
      "Epoch  3 / 5  -  train_rmse: 0.9246006727632845\n",
      "Epoch  4 / 5  -  train_rmse: 0.9034687744888419\n",
      "Epoch  5 / 5  -  train_rmse: 0.8856936252075813\n",
      "\n",
      "Test RMSE: 1.0569\n",
      "Epoch  1 / 5  -  train_rmse: 1.001372276703261\n",
      "Epoch  2 / 5  -  train_rmse: 0.9558290243872126\n",
      "Epoch  3 / 5  -  train_rmse: 0.9271597760800866\n",
      "Epoch  4 / 5  -  train_rmse: 0.9060386312927425\n",
      "Epoch  5 / 5  -  train_rmse: 0.8880321789255918\n",
      "\n",
      "Test RMSE: 1.0302\n",
      "Epoch  1 / 5  -  train_rmse: 1.003218267234326\n",
      "Epoch  2 / 5  -  train_rmse: 0.9574397617160892\n",
      "Epoch  3 / 5  -  train_rmse: 0.9285888340888783\n",
      "Epoch  4 / 5  -  train_rmse: 0.9073177172692454\n",
      "Epoch  5 / 5  -  train_rmse: 0.8891664037456058\n",
      "\n",
      "Test RMSE: 1.0113\n",
      "Epoch  1 / 5  -  train_rmse: 1.007507836305596\n",
      "Epoch  2 / 5  -  train_rmse: 0.9620284742573088\n",
      "Epoch  3 / 5  -  train_rmse: 0.9334886955306222\n",
      "Epoch  4 / 5  -  train_rmse: 0.912450350474041\n",
      "Epoch  5 / 5  -  train_rmse: 0.8945758372367539\n",
      "\n",
      "Test RMSE: 0.9752\n"
     ]
    }
   ],
   "source": [
    "from sklearn.model_selection import KFold\n",
    "kfold = KFold(n_splits=10)\n",
    "count = 0\n",
    "for train_idx, test_idx in kfold.split(X):\n",
    "    count +=1\n",
    "    X_train = X.loc[train_idx].copy()\n",
    "    y_train = y.loc[train_idx].copy()\n",
    "    X_test = X.loc[test_idx].copy()\n",
    "    y_test = y.loc[test_idx].copy()\n",
    "\n",
    "    # Initial training\n",
    "    matrix_fact = KernelMF(n_epochs=hparam['n_epochs'], n_factors=hparam['n_factors'], verbose=1, lr=hparam['lr'], reg=hparam['reg'])\n",
    "    matrix_fact.fit(X_train, y_train)\n",
    "\n",
    "    pred = matrix_fact.predict(X_test)\n",
    "    rmse = mean_squared_error(y_test, pred, squared=False)\n",
    "    print(f\"\\nTest RMSE: {rmse:.4f}\")\n",
    "    X_test['rating'] = y_test\n",
    "    X_test['prediction'] = pred\n",
    "    X_test.to_csv(f\"MF_test_{count}.csv\",encoding='utf-8', index=False)\n",
    "    \n",
    "\n"
   ]
  },
  {
   "cell_type": "code",
   "execution_count": null,
   "metadata": {},
   "outputs": [],
   "source": [
    "mask = np.random.rand(len(df)) < 0.8\n",
    "\n",
    "X_train = X[mask].copy()\n",
    "y_train = y[mask].copy()\n",
    "X_test = X[~mask].copy()\n",
    "y_test = y[~mask].copy()\n",
    "    "
   ]
  },
  {
   "cell_type": "code",
   "execution_count": null,
   "metadata": {},
   "outputs": [],
   "source": [
    "# Initial training\n",
    "matrix_fact = KernelMF(n_epochs=hparam['n_epochs'], n_factors=hparam['n_factors'], verbose=1, lr=hparam['lr'], reg=hparam['reg'])\n",
    "matrix_fact.fit(X_train, y_train)\n",
    "\n",
    "pred = matrix_fact.predict(X_test)\n",
    "rmse = mean_squared_error(y_test, pred, squared=False)\n",
    "print(f\"\\nTest RMSE: {rmse:.4f}\")\n"
   ]
  },
  {
   "cell_type": "code",
   "execution_count": null,
   "metadata": {},
   "outputs": [],
   "source": [
    "X_test['rating'] = y_test\n",
    "X_test['prediction'] = pred\n",
    "X_test"
   ]
  }
 ]
}